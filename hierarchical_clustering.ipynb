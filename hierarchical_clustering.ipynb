{
 "cells": [
  {
   "cell_type": "code",
   "execution_count": 1,
   "metadata": {},
   "outputs": [],
   "source": [
    "import numpy as np\n",
    "from scipy.cluster import hierarchy\n",
    "from scipy.spatial.distance import squareform\n",
    "from matplotlib import pyplot as plt\n",
    "%matplotlib inline"
   ]
  },
  {
   "cell_type": "code",
   "execution_count": 2,
   "metadata": {},
   "outputs": [],
   "source": [
    "# Labels:\n",
    "l = ['A', 'B', 'C', 'D', 'E', 'F']\n",
    "\n",
    "# Distance matrix:\n",
    "# (Note that it must be symmetrical and its diagonal is always 0.)\n",
    "d = np.array([[0, 1, 3, 3, 3, 4],\n",
    "              [1, 0, 4, 2, 3, 2],\n",
    "              [3, 4, 0, 3, 2, 5],\n",
    "              [3, 2, 3, 0, 2, 4],\n",
    "              [3, 3, 2, 2, 0, 5],\n",
    "              [4, 2, 5, 4, 5, 0]])"
   ]
  },
  {
   "cell_type": "code",
   "execution_count": 3,
   "metadata": {},
   "outputs": [
    {
     "data": {
      "text/plain": [
       "array([1, 3, 3, 3, 4, 4, 2, 3, 2, 3, 2, 5, 2, 4, 5])"
      ]
     },
     "execution_count": 3,
     "metadata": {},
     "output_type": "execute_result"
    }
   ],
   "source": [
    "# The hierarchy.linkage function uses a condensed distance matrix,\n",
    "# which is a flattened vector of the upper right triangle of the matrix:\n",
    "# (Caution! If you use the distance matrix as is, you will get erroneous\n",
    "# results -- in that case the algorithm will assume that each row is a\n",
    "# vector that represents the respective point, and will calculate the\n",
    "# euclidean distance between those vectors, which is absolute nonsense.)\n",
    "squareform(d)"
   ]
  },
  {
   "cell_type": "code",
   "execution_count": 4,
   "metadata": {},
   "outputs": [
    {
     "data": {
      "image/png": "[encoded data removed]",
      "text/plain": [
       "<matplotlib.figure.Figure at 0x11c545978>"
      ]
     },
     "metadata": {
      "needs_background": "light"
     },
     "output_type": "display_data"
    }
   ],
   "source": [
    "# Please read the documentation here:\n",
    "# https://docs.scipy.org/doc/scipy/reference/generated/scipy.cluster.hierarchy.linkage.html\n",
    "#\n",
    "# As you'll see below, the different methods of linkage may produce very different structures\n",
    "# and, consequently, very different clusters. Try to understand why (look at the distance matrix\n",
    "# and follow the formulas in the documentation).\n",
    "# Sometimes the characteristics of the problem suggest what method is more natural to use than\n",
    "# the others. This is especially true with respect to the complete (= farthest point) and single\n",
    "# (= nearest point) methods. Other times the 'correct' method to use is not obvious at all, and\n",
    "# it requires inspecting the results and the data thoroughly. The average method usually works\n",
    "# well, however.\n",
    "\n",
    "methods = ['average', 'weighted', 'complete', 'single']  # There are other methods as well, see documentation\n",
    "\n",
    "plt.figure(figsize=(10, 5))\n",
    "\n",
    "for i, method in enumerate(methods):\n",
    "    plt.subplot(2, 2, i+1)\n",
    "    plt.title(method)\n",
    "    \n",
    "    ############# This is the relevant part: #############\n",
    "    #                                                    #\n",
    "    lnk = hierarchy.linkage(squareform(d), method)\n",
    "    hierarchy.dendrogram(lnk, labels=l, color_threshold=0)\n",
    "    #                                                    #\n",
    "    ######################################################\n",
    "    \n",
    "    plt.ylim(0, 5.5)\n",
    "    plt.grid(axis='y')\n",
    "\n",
    "plt.tight_layout()"
   ]
  },
  {
   "cell_type": "code",
   "execution_count": null,
   "metadata": {},
   "outputs": [],
   "source": []
  }
 ],
 "metadata": {
  "kernelspec": {
   "display_name": "Python 3",
   "language": "python",
   "name": "python3"
  },
  "language_info": {
   "codemirror_mode": {
    "name": "ipython",
    "version": 3
   },
   "file_extension": ".py",
   "mimetype": "text/x-python",
   "name": "python",
   "nbconvert_exporter": "python",
   "pygments_lexer": "ipython3",
   "version": "3.6.5"
  }
 },
 "nbformat": 4,
 "nbformat_minor": 2
}
